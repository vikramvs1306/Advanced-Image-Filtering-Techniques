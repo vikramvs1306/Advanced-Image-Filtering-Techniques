{
  "nbformat": 4,
  "nbformat_minor": 0,
  "metadata": {
    "colab": {
      "provenance": []
    },
    "kernelspec": {
      "name": "python3",
      "display_name": "Python 3"
    },
    "language_info": {
      "name": "python"
    }
  },
  "cells": [
    {
      "cell_type": "markdown",
      "source": [
        "Answer 1"
      ],
      "metadata": {
        "id": "tlFgKpaONOXt"
      }
    },
    {
      "cell_type": "code",
      "source": [
        "import cv2\n",
        "import numpy as np\n",
        "\n",
        "# Function to apply a filter to an image\n",
        "def apply_filter(image, kernel):\n",
        "    filtered = cv2.filter2D(image, -1, kernel)\n",
        "    return filtered\n",
        "\n",
        "# Function to normalize the difference between two images\n",
        "def normalize_difference(image1, image2):\n",
        "    diff = cv2.absdiff(image1, image2)\n",
        "    return cv2.normalize(diff, None, 0, 255, cv2.NORM_MINMAX)\n",
        "\n",
        "# Main function for image processing\n",
        "def main(filename):\n",
        "    # Read the input image\n",
        "    original_image = cv2.imread(filename)\n",
        "\n",
        "    # Convert to grayscale if it's an RGB image\n",
        "    if original_image.shape[-1] == 3:\n",
        "        grayscale_image = cv2.cvtColor(original_image, cv2.COLOR_BGR2GRAY)\n",
        "    else:\n",
        "        grayscale_image = original_image\n",
        "\n",
        "    # Define the filter\n",
        "    w_filter = np.array([[0, 1/2, 0], [1/2, -1, 1/2], [0, 1/2, 0]])\n",
        "\n",
        "    # Apply the filter to the grayscale image\n",
        "    g_image = apply_filter(grayscale_image, w_filter)\n",
        "\n",
        "    # Apply the filter again to the previously filtered image\n",
        "    h_image = apply_filter(g_image, w_filter)\n",
        "\n",
        "    # Compute the difference between the original image and the first filtered image\n",
        "    s_image = grayscale_image - g_image\n",
        "\n",
        "    # Compute the difference between the original image and the second filtered image\n",
        "    r_image = grayscale_image - h_image\n",
        "\n",
        "    # Normalize the difference images\n",
        "    g_diff = normalize_difference(grayscale_image, g_image)\n",
        "    h_diff = normalize_difference(grayscale_image, h_image)\n",
        "    s_diff = normalize_difference(grayscale_image, s_image)\n",
        "    r_diff = normalize_difference(grayscale_image, r_image)\n",
        "\n",
        "    # Save the filtered and difference images\n",
        "    cv2.imwrite(filename[:-4] + \"filter-g.jpg\", g_image)\n",
        "    cv2.imwrite(filename[:-4] + \"filter-h.jpg\", h_image)\n",
        "    cv2.imwrite(filename[:-4] + \"filter-s.jpg\", s_image)\n",
        "    cv2.imwrite(filename[:-4] + \"filter-r.jpg\", r_image)\n",
        "\n",
        "    cv2.imwrite(filename[:-4] + \"filter-g-diff.jpg\", g_diff)\n",
        "    cv2.imwrite(filename[:-4] + \"filter-h-diff.jpg\", h_diff)\n",
        "    cv2.imwrite(filename[:-4] + \"filter-s-diff.jpg\", s_diff)\n",
        "    cv2.imwrite(filename[:-4] + \"filter-r-diff.jpg\", r_diff)\n",
        "\n",
        "if __name__ == '__main__':\n",
        "    filename = \"/content/lena_gray.jpg\"  # Replace with your input image filename\n",
        "    main(filename)\n"
      ],
      "metadata": {
        "id": "kp-m3rTkLfFL"
      },
      "execution_count": 41,
      "outputs": []
    },
    {
      "cell_type": "markdown",
      "source": [
        "Answer 2"
      ],
      "metadata": {
        "id": "xqbty0QyNTaq"
      }
    },
    {
      "cell_type": "code",
      "source": [
        "import cv2\n",
        "import numpy as np\n",
        "\n",
        "# Function to apply a Laplacian filter to an image\n",
        "def apply_laplacian_filter(image):\n",
        "    # Define a 3x3 Laplacian filter kernel\n",
        "    laplacian_kernel = np.array([[-1, -1, -1],\n",
        "                                [-1, 8, -1],\n",
        "                                [-1, -1, -1]], dtype=np.float32)\n",
        "\n",
        "    # Apply the Laplacian filter to the image\n",
        "    laplacian_image = cv2.filter2D(image, -1, laplacian_kernel)\n",
        "\n",
        "    return laplacian_image\n",
        "\n",
        "# Main function for image processing\n",
        "def main(filename):\n",
        "    # Read the input image\n",
        "    original_image = cv2.imread(filename)\n",
        "\n",
        "    # Check if the image is in color (3 channels) and convert it to grayscale if needed\n",
        "    if len(original_image.shape) == 3:\n",
        "        grayscale_image = cv2.cvtColor(original_image, cv2.COLOR_BGR2GRAY)\n",
        "    else:\n",
        "        grayscale_image = original_image\n",
        "\n",
        "    # Apply the Laplacian filter to the grayscale image\n",
        "    laplacian_image = apply_laplacian_filter(grayscale_image)\n",
        "\n",
        "    # Compute the absolute difference between the original and filtered images\n",
        "    diff = cv2.absdiff(grayscale_image, laplacian_image)\n",
        "\n",
        "    # Normalize the difference image\n",
        "    laplacian_norm = cv2.normalize(diff, None, 0, 255, cv2.NORM_MINMAX, cv2.CV_8U)\n",
        "\n",
        "    # Save the filtered and difference images\n",
        "    cv2.imwrite(filename[:-4] + \"Laplacian.jpg\", laplacian_image)  # Save filtered image\n",
        "    cv2.imwrite(filename[:-4] + \"LaplacianDiff.jpg\", diff)  # Save difference image\n",
        "\n",
        "if __name__ == '__main__':\n",
        "    filename = \"/content/lena_gray.jpg\"  # Replace with your input image filename\n",
        "    main(filename)\n"
      ],
      "metadata": {
        "id": "4ZbrqOonMLsX"
      },
      "execution_count": 42,
      "outputs": []
    },
    {
      "cell_type": "markdown",
      "source": [
        "Answer 3"
      ],
      "metadata": {
        "id": "QnGltShvNWik"
      }
    },
    {
      "cell_type": "code",
      "source": [
        "import cv2\n",
        "import numpy as np\n",
        "\n",
        "# Function to apply unsharp masking to an image\n",
        "def apply_unsharp_masking(image, sigma):\n",
        "    # Apply Gaussian blur with the specified standard deviation (σ)\n",
        "    blurred_image = cv2.GaussianBlur(image, (5, 5), sigma)\n",
        "\n",
        "    # Calculate the unsharp mask (difference between the original and blurred image)\n",
        "    unsharp_mask = image - blurred_image\n",
        "\n",
        "    # Add the unsharp mask back to the original image to enhance details\n",
        "    sharpened_image = image + unsharp_mask\n",
        "\n",
        "    return sharpened_image, unsharp_mask\n",
        "\n",
        "# Function to normalize the difference between two images\n",
        "def normalize_difference(image1, image2):\n",
        "    diff = cv2.absdiff(image1, image2)\n",
        "    return cv2.normalize(diff, None, 0, 255, cv2.NORM_MINMAX)\n",
        "\n",
        "# Main function for image processing\n",
        "def main(filename):\n",
        "    # Read the input image\n",
        "    original_image = cv2.imread(filename)\n",
        "\n",
        "    if original_image is not None:\n",
        "        # Convert to grayscale if it's a color image\n",
        "        if len(original_image.shape) == 3:\n",
        "            grayscale_image = cv2.cvtColor(original_image, cv2.COLOR_BGR2GRAY)\n",
        "        else:\n",
        "            grayscale_image = original_image\n",
        "\n",
        "        # Define the standard deviation (σ) for the Gaussian filter\n",
        "        sigma = 10  # Adjust the value as needed\n",
        "\n",
        "        # Apply unsharp masking with the specified Gaussian filter\n",
        "        sharpened_image, unsharp_mask = apply_unsharp_masking(grayscale_image, sigma)\n",
        "\n",
        "        # Normalize the difference between the original and sharpened images\n",
        "        diff = normalize_difference(grayscale_image, sharpened_image)\n",
        "\n",
        "        # Save the sharpened image and the difference (unsharp mask) image\n",
        "        cv2.imwrite(filename[:-4] + \"Unsharp.jpg\", sharpened_image)  # Save sharpened image\n",
        "        cv2.imwrite(filename[:-4] + \"UnsharpDiff.jpg\", diff)  # Save difference (unsharp mask) image\n",
        "\n",
        "        print(\"Images processed and saved successfully.\")\n",
        "    else:\n",
        "        print(\"Image not found or could not be loaded.\")\n",
        "\n",
        "if __name__ == '__main__':\n",
        "    filename = \"/content/lena_gray.jpg\"  # Replace with your input image filename\n",
        "    main(filename)\n"
      ],
      "metadata": {
        "colab": {
          "base_uri": "https://localhost:8080/"
        },
        "id": "3a0RqbbmMmLy",
        "outputId": "1727c2f9-b75c-400a-ecd4-4a006fad31a1"
      },
      "execution_count": 43,
      "outputs": [
        {
          "output_type": "stream",
          "name": "stdout",
          "text": [
            "Images processed and saved successfully.\n"
          ]
        }
      ]
    },
    {
      "cell_type": "markdown",
      "source": [
        "Answer 4"
      ],
      "metadata": {
        "id": "geYL0dmKNZZm"
      }
    },
    {
      "cell_type": "code",
      "source": [
        "import cv2\n",
        "import numpy as np\n",
        "\n",
        "# Function to apply a 3x3 averaging filter to an image\n",
        "def apply_averaging_filter(image):\n",
        "    # Define the 3x3 averaging filter kernel\n",
        "    averaging_kernel = np.array([[1/9, 1/9, 1/9],\n",
        "                                 [1/9, 1/9, 1/9],\n",
        "                                 [1/9, 1/9, 1/9]])\n",
        "\n",
        "    # Apply the averaging filter\n",
        "    averaged_image = cv2.filter2D(image, -1, averaging_kernel)\n",
        "\n",
        "    return averaged_image\n",
        "\n",
        "# Function to apply a 3x3 Laplacian filter with -4 at the center to an image\n",
        "def apply_laplacian_filter(image):\n",
        "    # Define the 3x3 Laplacian filter kernel with -4 at the center\n",
        "    laplacian_kernel = np.array([[0, 1, 0],\n",
        "                                 [1, -4, 1],\n",
        "                                 [0, 1, 0]])\n",
        "\n",
        "    # Apply the Laplacian filter\n",
        "    laplacian_image = cv2.filter2D(image, -1, laplacian_kernel)\n",
        "\n",
        "    return laplacian_image\n",
        "\n",
        "# Function to normalize the difference between two images\n",
        "def normalize_difference(image1, image2):\n",
        "    diff = cv2.absdiff(image1, image2)\n",
        "    return cv2.normalize(diff, None, 0, 255, cv2.NORM_MINMAX)\n",
        "\n",
        "# Main function for image processing\n",
        "def main(filename):\n",
        "    # Read the input image\n",
        "    original_image = cv2.imread(filename)\n",
        "\n",
        "    if original_image is not None:\n",
        "        # Convert to grayscale if it's a color image\n",
        "        if len(original_image.shape) == 3:\n",
        "            grayscale_image = cv2.cvtColor(original_image, cv2.COLOR_BGR2GRAY)\n",
        "        else:\n",
        "            grayscale_image = original_image\n",
        "\n",
        "        # Apply the averaging filter\n",
        "        averaged_image = apply_averaging_filter(grayscale_image)\n",
        "\n",
        "        # Apply the Laplacian filter to the averaged image\n",
        "        avg_laplacian_image = apply_laplacian_filter(averaged_image)\n",
        "\n",
        "        # Normalize the difference image\n",
        "        avg_laplacian_diff = normalize_difference(grayscale_image, avg_laplacian_image)\n",
        "\n",
        "        # Save the filtered and difference images\n",
        "        cv2.imwrite(filename[:-4] + \"AvgLaplace.jpg\", avg_laplacian_image)  # Save filtered image\n",
        "        cv2.imwrite(filename[:-4] + \"AvgLaplaceDiff.jpg\", avg_laplacian_diff)  # Save difference image\n",
        "\n",
        "        print(\"Images processed and saved successfully.\")\n",
        "    else:\n",
        "        print(\"Image not found or could not be loaded.\")\n",
        "\n",
        "if __name__ == '__main__':\n",
        "    filename = \"/content/lena_gray.jpg\"  # Replace with your input image filename\n",
        "    main(filename)\n"
      ],
      "metadata": {
        "colab": {
          "base_uri": "https://localhost:8080/"
        },
        "id": "VticyVBGNIdH",
        "outputId": "32eb0abd-bcf0-440a-d58f-208ac6804c51"
      },
      "execution_count": 44,
      "outputs": [
        {
          "output_type": "stream",
          "name": "stdout",
          "text": [
            "Images processed and saved successfully.\n"
          ]
        }
      ]
    },
    {
      "cell_type": "code",
      "source": [],
      "metadata": {
        "id": "fwoq0wzlGWoZ"
      },
      "execution_count": null,
      "outputs": []
    }
  ]
}